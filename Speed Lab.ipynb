{
 "cells": [
  {
   "cell_type": "markdown",
   "metadata": {},
   "source": [
    "# Lego Car Lab"
   ]
  },
  {
   "cell_type": "markdown",
   "metadata": {},
   "source": [
    "SC.6.P.12.1: Measure and graph distance versus time\n",
    "\n",
    "for an object moving at a constant speed. Interpret this\n",
    "\n",
    "relationship. (H) Spark Timer Lab Extended Version"
   ]
  },
  {
   "cell_type": "markdown",
   "metadata": {},
   "source": [
    "Lego Car Lab\n",
    "Purpose:  To understand two or more forces acting on an object, \n",
    "including gravity and friction.  To understand how a wheel and axel work.\n",
    "\n",
    "Background:   A force is a push or pull on an object.  Depending on if these forces are balanced or unbalanced; they can cause an object to move.  Two unbalanced forces that we experience everyday are the forces of friction and gravity.\n",
    "\n",
    "Friction is a force that opposes motion as one object rubs against another.  This is a force that always acts in the opposite direction of the object’s motion.  \n",
    "\n",
    "Gravity is another force that pulls all objects toward each other.  Due to Earth’s extremely large mass, all objects close to Earth are attracted toward it, like a magnet.  Thus, gravity acts on objects in a downward direction toward the center of Earth.\n",
    "\n",
    "Wheel and Axle, a simple machine consisting of a wheel (or crank) and an axle that turn on the same axis. Steering wheels, doorknobs, and screwdrivers are wheel-and-axle devices\n"
   ]
  },
  {
   "cell_type": "markdown",
   "metadata": {},
   "source": [
    "# Procedure:\n",
    "1. Partner A and Partner B select 20 legos from the bin.\n",
    "2. Partner A is going to design a car using the 20 legos.\n",
    "3. Partner A and Partner B are going to roll them down your ramp. (Can use a 3 ring binder as ramp)\n",
    "4. Start your stopwatch at the end of the ramp and stop your stopwatch at 100 cm.\n",
    "5. Complete this three times with the same design to get your Trial_1, Trial_2, Trial_3 times in seconds.\n",
    "6. Fill in the numbers (1, 2, 3) next to Trial_1, Trial_2, Trial_3  with your actual trails in seconds. Then hit shift enter. \n",
    "7.Then hit shift enter in the other two boxes. This will calculate the speed and create the speed graph for you.\n",
    "8. In your paper notebook draw your design for your car, then write your speed next to you car, and draw the speed graph you created include the values on the x, and y axis.\n",
    "9. Partner B will design thier own car reusing the same 20 legos and repeat steps 2-6 under trial two.\n",
    "10. If time work with your partner to combine your ideas to make a final design using your 20 legos and repeat steps 2-6 under trial two."
   ]
  },
  {
   "cell_type": "markdown",
   "metadata": {},
   "source": [
    "# Questions to answer in your paper notebook at the end\n",
    "1. Identify the independent (test vairable)\n",
    "2. Identify the dependent (outcome vairable)\n",
    "3. Ifentify to control vairables\n",
    "4. Hypothesis: Draw what you think a speed graph will look like\n",
    "5. Conclusion:  Which car had the fasted speed explain with evidence how you know this"
   ]
  },
  {
   "cell_type": "markdown",
   "metadata": {},
   "source": [
    "# Average Time Trails One"
   ]
  },
  {
   "cell_type": "code",
   "execution_count": 19,
   "metadata": {
    "collapsed": false
   },
   "outputs": [
    {
     "name": "stdout",
     "output_type": "stream",
     "text": [
      "average time one in seconds 2.0\n"
     ]
    }
   ],
   "source": [
    "Trial_1 = 1\n",
    "Trial_2 = 2\n",
    "Trial_3 = 3\n",
    "average_time1 = ((Trial_1 + Trial_2 + Trial_3) / 3)\n",
    "print (\"average time one in seconds\", average_time1)"
   ]
  },
  {
   "cell_type": "markdown",
   "metadata": {},
   "source": [
    "# Speed Trial One\n",
    "\n",
    "# Speed= Distance/ Time"
   ]
  },
  {
   "cell_type": "code",
   "execution_count": 20,
   "metadata": {
    "collapsed": false
   },
   "outputs": [
    {
     "name": "stdout",
     "output_type": "stream",
     "text": [
      "Speed (cm/sec) = 50.0\n"
     ]
    }
   ],
   "source": [
    "speed = 100 / (average_time1)\n",
    "print (\"Speed (cm/sec) =\", speed)"
   ]
  },
  {
   "cell_type": "code",
   "execution_count": 28,
   "metadata": {
    "collapsed": false
   },
   "outputs": [
    {
     "data": {
      "image/png": "[encoded data removed]",
      "text/plain": [
       "<matplotlib.figure.Figure at 0x7fec8c10a748>"
      ]
     },
     "metadata": {},
     "output_type": "display_data"
    }
   ],
   "source": [
    "%matplotlib inline\n",
    "import matplotlib.pyplot as plt\n",
    "plt.plot([0,speed])\n",
    "plt.ylabel('some numbers')\n",
    "plt.show()"
   ]
  },
  {
   "cell_type": "code",
   "execution_count": null,
   "metadata": {
    "collapsed": true
   },
   "outputs": [],
   "source": []
  }
 ],
 "metadata": {
  "kernelspec": {
   "display_name": "Python 3",
   "language": "python",
   "name": "python3"
  },
  "language_info": {
   "codemirror_mode": {
    "name": "ipython",
    "version": 3
   },
   "file_extension": ".py",
   "mimetype": "text/x-python",
   "name": "python",
   "nbconvert_exporter": "python",
   "pygments_lexer": "ipython3",
   "version": "3.5.1"
  }
 },
 "nbformat": 4,
 "nbformat_minor": 0
}
